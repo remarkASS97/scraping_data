{
 "cells": [
  {
   "cell_type": "code",
   "execution_count": 1,
   "metadata": {},
   "outputs": [
    {
     "data": {
      "text/html": [
       "<style>.container { width:90% !important; }</style>"
      ],
      "text/plain": [
       "<IPython.core.display.HTML object>"
      ]
     },
     "metadata": {},
     "output_type": "display_data"
    }
   ],
   "source": [
    "from lxml import html\n",
    "import requests\n",
    "import pandas as pd\n",
    "import numpy as np\n",
    "import re\n",
    "\n",
    "from IPython.core.display import display, HTML # расширяем блокнот\n",
    "display(HTML(\"<style>.container { width:90% !important; }</style>\"))\n",
    "\n",
    "pd.set_option('display.max_columns', None) # выводим все колонки\n",
    "\n",
    "from IPython.core.interactiveshell import InteractiveShell # выводим все результаты из ячейки\n",
    "InteractiveShell.ast_node_interactivity = \"all\""
   ]
  },
  {
   "cell_type": "code",
   "execution_count": 4,
   "metadata": {},
   "outputs": [],
   "source": [
    "page = requests.get('https://www.premierleague.com/clubs')\n",
    "tree = html.fromstring(page.content)"
   ]
  },
  {
   "cell_type": "code",
   "execution_count": 5,
   "metadata": {},
   "outputs": [],
   "source": [
    "linkLocation = tree.cssselect('.indexItem')\n",
    "\n",
    "teamLinks = []\n",
    "\n",
    "for i in range(0,20):\n",
    "\n",
    "    temp = linkLocation[i].attrib['href']\n",
    "\n",
    "    temp = \"http://www.premierleague.com/\" + temp\n",
    "\n",
    "    temp = temp.replace(\"overview\", \"squad\")\n",
    "\n",
    "    teamLinks.append(temp)"
   ]
  },
  {
   "cell_type": "code",
   "execution_count": 6,
   "metadata": {},
   "outputs": [],
   "source": [
    "playerLink1 = []\n",
    "playerLink2 = []\n",
    "\n",
    "for i in range(len(teamLinks)):\n",
    "\n",
    "    squadPage = requests.get(teamLinks[i])\n",
    "    squadTree = html.fromstring(squadPage.content)\n",
    "\n",
    "    playerLocation = squadTree.cssselect('.playerOverviewCard')\n",
    "\n",
    "    for i in range(len(playerLocation)):\n",
    "\n",
    "        playerLink1.append(\"http://www.premierleague.com/\" + playerLocation[i].attrib['href'])\n",
    "\n",
    "        playerLink2.append(playerLink1[i].replace(\"overview\", \"stats\"))"
   ]
  },
  {
   "cell_type": "code",
   "execution_count": 11,
   "metadata": {},
   "outputs": [],
   "source": [
    "Name = []\n",
    "Team = []\n",
    "Apps = []\n",
    "HeightCM = []\n",
    "WeightKG = []\n",
    "\n",
    "for i in range(len(playerLink1)):\n",
    "\n",
    "    playerPage1 = requests.get(playerLink1[i])\n",
    "    playerTree1 = html.fromstring(playerPage1.content)\n",
    "    playerPage2 = requests.get(playerLink2[i])\n",
    "    playerTree2 = html.fromstring(playerPage2.content)\n",
    "\n",
    "    tempName = str(playerTree1.cssselect('div.name')[0].text_content())\n",
    "\n",
    "    try:\n",
    "        tempTeam = str(playerTree1.cssselect('.table:nth-child(1) .long')[0].text_content())\n",
    "    except IndexError:\n",
    "        tempTeam = str(\"BLANK\")\n",
    "\n",
    "    try:\n",
    "        tempApps = playerTree2.cssselect('.statappearances')[0].text_content()\n",
    "        tempApps = int(re.search(r'\\d+', tempApps).group())\n",
    "    except IndexError:\n",
    "        tempApps = float('NaN')\n",
    "\n",
    "    try:\n",
    "        tempHeight = playerTree1.cssselect('.pdcol3 li:nth-child(1) .info')[0].text_content()\n",
    "        tempHeight = int(re.search(r'\\d+', tempHeight).group())\n",
    "    except IndexError:\n",
    "        tempHeight = float('NaN')\n",
    "\n",
    "    try:\n",
    "        tempWeight = playerTree1.cssselect('.pdcol3 li+ li .info')[0].text_content()\n",
    "        tempWeight = int(re.search(r'\\d+', tempWeight).group())\n",
    "    except IndexError:\n",
    "        tempWeight = float('NaN')\n",
    "\n",
    "\n",
    "    Name.append(tempName)\n",
    "    Team.append(tempTeam)\n",
    "    Apps.append(tempApps)\n",
    "    HeightCM.append(tempHeight)\n",
    "    WeightKG.append(tempWeight)"
   ]
  },
  {
   "cell_type": "code",
   "execution_count": 13,
   "metadata": {},
   "outputs": [
    {
     "data": {
      "text/html": [
       "<div>\n",
       "<style scoped>\n",
       "    .dataframe tbody tr th:only-of-type {\n",
       "        vertical-align: middle;\n",
       "    }\n",
       "\n",
       "    .dataframe tbody tr th {\n",
       "        vertical-align: top;\n",
       "    }\n",
       "\n",
       "    .dataframe thead th {\n",
       "        text-align: right;\n",
       "    }\n",
       "</style>\n",
       "<table border=\"1\" class=\"dataframe\">\n",
       "  <thead>\n",
       "    <tr style=\"text-align: right;\">\n",
       "      <th></th>\n",
       "      <th>Name</th>\n",
       "      <th>Team</th>\n",
       "      <th>Apps</th>\n",
       "      <th>HeightCM</th>\n",
       "      <th>WeightKG</th>\n",
       "    </tr>\n",
       "  </thead>\n",
       "  <tbody>\n",
       "    <tr>\n",
       "      <th>0</th>\n",
       "      <td>Bernd Leno</td>\n",
       "      <td>Arsenal</td>\n",
       "      <td>91</td>\n",
       "      <td>190.0</td>\n",
       "      <td>83.0</td>\n",
       "    </tr>\n",
       "    <tr>\n",
       "      <th>1</th>\n",
       "      <td>RÃºnar Alex RÃºnarsson</td>\n",
       "      <td>Arsenal</td>\n",
       "      <td>1</td>\n",
       "      <td>186.0</td>\n",
       "      <td>76.0</td>\n",
       "    </tr>\n",
       "    <tr>\n",
       "      <th>2</th>\n",
       "      <td>Karl Hein</td>\n",
       "      <td>Arsenal</td>\n",
       "      <td>0</td>\n",
       "      <td>193.0</td>\n",
       "      <td>NaN</td>\n",
       "    </tr>\n",
       "    <tr>\n",
       "      <th>3</th>\n",
       "      <td>Mat Ryan</td>\n",
       "      <td>Arsenal  (Loan)</td>\n",
       "      <td>122</td>\n",
       "      <td>184.0</td>\n",
       "      <td>82.0</td>\n",
       "    </tr>\n",
       "    <tr>\n",
       "      <th>4</th>\n",
       "      <td>Arthur Okonkwo</td>\n",
       "      <td>Arsenal</td>\n",
       "      <td>0</td>\n",
       "      <td>NaN</td>\n",
       "      <td>NaN</td>\n",
       "    </tr>\n",
       "  </tbody>\n",
       "</table>\n",
       "</div>"
      ],
      "text/plain": [
       "                     Name              Team  Apps  HeightCM  WeightKG\n",
       "0              Bernd Leno           Arsenal    91     190.0      83.0\n",
       "1  RÃºnar Alex RÃºnarsson           Arsenal     1     186.0      76.0\n",
       "2               Karl Hein           Arsenal     0     193.0       NaN\n",
       "3                Mat Ryan  Arsenal  (Loan)    122     184.0      82.0\n",
       "4          Arthur Okonkwo           Arsenal     0       NaN       NaN"
      ]
     },
     "execution_count": 13,
     "metadata": {},
     "output_type": "execute_result"
    }
   ],
   "source": [
    "df = pd.DataFrame(\n",
    "    {'Name':Name,\n",
    "     'Team':Team,\n",
    "     'Apps':Apps,\n",
    "     'HeightCM':HeightCM,\n",
    "     'WeightKG':WeightKG})\n",
    "\n",
    "df.head()"
   ]
  },
  {
   "cell_type": "code",
   "execution_count": 15,
   "metadata": {},
   "outputs": [
    {
     "data": {
      "text/plain": [
       "628"
      ]
     },
     "execution_count": 15,
     "metadata": {},
     "output_type": "execute_result"
    }
   ],
   "source": [
    "len(df)"
   ]
  },
  {
   "cell_type": "code",
   "execution_count": 18,
   "metadata": {},
   "outputs": [
    {
     "data": {
      "text/html": [
       "<div>\n",
       "<style scoped>\n",
       "    .dataframe tbody tr th:only-of-type {\n",
       "        vertical-align: middle;\n",
       "    }\n",
       "\n",
       "    .dataframe tbody tr th {\n",
       "        vertical-align: top;\n",
       "    }\n",
       "\n",
       "    .dataframe thead th {\n",
       "        text-align: right;\n",
       "    }\n",
       "</style>\n",
       "<table border=\"1\" class=\"dataframe\">\n",
       "  <thead>\n",
       "    <tr style=\"text-align: right;\">\n",
       "      <th></th>\n",
       "      <th>Name</th>\n",
       "      <th>Team</th>\n",
       "      <th>Apps</th>\n",
       "      <th>HeightCM</th>\n",
       "      <th>WeightKG</th>\n",
       "    </tr>\n",
       "  </thead>\n",
       "  <tbody>\n",
       "    <tr>\n",
       "      <th>0</th>\n",
       "      <td>Bernd Leno</td>\n",
       "      <td>Arsenal</td>\n",
       "      <td>91</td>\n",
       "      <td>190.0</td>\n",
       "      <td>83.0</td>\n",
       "    </tr>\n",
       "    <tr>\n",
       "      <th>1</th>\n",
       "      <td>RÃºnar Alex RÃºnarsson</td>\n",
       "      <td>Arsenal</td>\n",
       "      <td>1</td>\n",
       "      <td>186.0</td>\n",
       "      <td>76.0</td>\n",
       "    </tr>\n",
       "    <tr>\n",
       "      <th>2</th>\n",
       "      <td>Karl Hein</td>\n",
       "      <td>Arsenal</td>\n",
       "      <td>0</td>\n",
       "      <td>193.0</td>\n",
       "      <td>NaN</td>\n",
       "    </tr>\n",
       "    <tr>\n",
       "      <th>3</th>\n",
       "      <td>Mat Ryan</td>\n",
       "      <td>Arsenal  (Loan)</td>\n",
       "      <td>122</td>\n",
       "      <td>184.0</td>\n",
       "      <td>82.0</td>\n",
       "    </tr>\n",
       "    <tr>\n",
       "      <th>4</th>\n",
       "      <td>Arthur Okonkwo</td>\n",
       "      <td>Arsenal</td>\n",
       "      <td>0</td>\n",
       "      <td>NaN</td>\n",
       "      <td>NaN</td>\n",
       "    </tr>\n",
       "    <tr>\n",
       "      <th>...</th>\n",
       "      <td>...</td>\n",
       "      <td>...</td>\n",
       "      <td>...</td>\n",
       "      <td>...</td>\n",
       "      <td>...</td>\n",
       "    </tr>\n",
       "    <tr>\n",
       "      <th>623</th>\n",
       "      <td>Adama TraorÃ©</td>\n",
       "      <td>Wolverhampton Wanderers</td>\n",
       "      <td>255</td>\n",
       "      <td>178.0</td>\n",
       "      <td>72.0</td>\n",
       "    </tr>\n",
       "    <tr>\n",
       "      <th>624</th>\n",
       "      <td>FÃ¡bio Silva</td>\n",
       "      <td>Wolverhampton Wanderers</td>\n",
       "      <td>0</td>\n",
       "      <td>185.0</td>\n",
       "      <td>75.0</td>\n",
       "    </tr>\n",
       "    <tr>\n",
       "      <th>625</th>\n",
       "      <td>Theo Corbeanu</td>\n",
       "      <td>Wolverhampton Wanderers U21</td>\n",
       "      <td>116</td>\n",
       "      <td>NaN</td>\n",
       "      <td>NaN</td>\n",
       "    </tr>\n",
       "    <tr>\n",
       "      <th>626</th>\n",
       "      <td>Willian JosÃ©</td>\n",
       "      <td>Wolverhampton Wanderers  (Loan)</td>\n",
       "      <td>2</td>\n",
       "      <td>189.0</td>\n",
       "      <td>93.0</td>\n",
       "    </tr>\n",
       "    <tr>\n",
       "      <th>627</th>\n",
       "      <td>Leonardo Campana</td>\n",
       "      <td>Wolverhampton Wanderers</td>\n",
       "      <td>43</td>\n",
       "      <td>187.0</td>\n",
       "      <td>79.0</td>\n",
       "    </tr>\n",
       "  </tbody>\n",
       "</table>\n",
       "<p>628 rows × 5 columns</p>\n",
       "</div>"
      ],
      "text/plain": [
       "                       Name                              Team  Apps  HeightCM  \\\n",
       "0                Bernd Leno                           Arsenal    91     190.0   \n",
       "1    RÃºnar Alex RÃºnarsson                           Arsenal     1     186.0   \n",
       "2                 Karl Hein                           Arsenal     0     193.0   \n",
       "3                  Mat Ryan                  Arsenal  (Loan)    122     184.0   \n",
       "4            Arthur Okonkwo                           Arsenal     0       NaN   \n",
       "..                      ...                               ...   ...       ...   \n",
       "623           Adama TraorÃ©           Wolverhampton Wanderers   255     178.0   \n",
       "624            FÃ¡bio Silva           Wolverhampton Wanderers     0     185.0   \n",
       "625           Theo Corbeanu       Wolverhampton Wanderers U21   116       NaN   \n",
       "626           Willian JosÃ©  Wolverhampton Wanderers  (Loan)      2     189.0   \n",
       "627        Leonardo Campana           Wolverhampton Wanderers    43     187.0   \n",
       "\n",
       "     WeightKG  \n",
       "0        83.0  \n",
       "1        76.0  \n",
       "2         NaN  \n",
       "3        82.0  \n",
       "4         NaN  \n",
       "..        ...  \n",
       "623      72.0  \n",
       "624      75.0  \n",
       "625       NaN  \n",
       "626      93.0  \n",
       "627      79.0  \n",
       "\n",
       "[628 rows x 5 columns]"
      ]
     },
     "execution_count": 18,
     "metadata": {},
     "output_type": "execute_result"
    }
   ],
   "source": [
    "df"
   ]
  },
  {
   "cell_type": "code",
   "execution_count": 14,
   "metadata": {},
   "outputs": [
    {
     "data": {
      "text/plain": [
       "Series([], Name: HeightCM, dtype: float64)"
      ]
     },
     "execution_count": 14,
     "metadata": {},
     "output_type": "execute_result"
    }
   ],
   "source": [
    "df[df['Name']==\"Loris Karius\"][\"HeightCM\"]"
   ]
  },
  {
   "cell_type": "code",
   "execution_count": null,
   "metadata": {},
   "outputs": [],
   "source": [
    "df.to_csv(\"EPLData.csv\")"
   ]
  }
 ],
 "metadata": {
  "kernelspec": {
   "display_name": "Python 3",
   "language": "python",
   "name": "python3"
  },
  "language_info": {
   "codemirror_mode": {
    "name": "ipython",
    "version": 3
   },
   "file_extension": ".py",
   "mimetype": "text/x-python",
   "name": "python",
   "nbconvert_exporter": "python",
   "pygments_lexer": "ipython3",
   "version": "3.7.6"
  }
 },
 "nbformat": 4,
 "nbformat_minor": 4
}
