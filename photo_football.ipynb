{
 "cells": [
  {
   "cell_type": "code",
   "execution_count": 2,
   "metadata": {},
   "outputs": [
    {
     "data": {
      "text/html": [
       "<style>.container { width:90% !important; }</style>"
      ],
      "text/plain": [
       "<IPython.core.display.HTML object>"
      ]
     },
     "metadata": {},
     "output_type": "display_data"
    }
   ],
   "source": [
    "import requests\n",
    "from bs4 import BeautifulSoup\n",
    "from os.path  import basename\n",
    "import pandas as pd\n",
    "\n",
    "from IPython.core.display import display, HTML # расширяем блокнот\n",
    "display(HTML(\"<style>.container { width:90% !important; }</style>\"))\n",
    "\n",
    "pd.set_option('display.max_columns', None) # выводим все колонки\n",
    "\n",
    "from IPython.core.interactiveshell import InteractiveShell # выводим все результаты из ячейки\n",
    "InteractiveShell.ast_node_interactivity = \"all\""
   ]
  },
  {
   "cell_type": "code",
   "execution_count": 11,
   "metadata": {},
   "outputs": [],
   "source": [
    "headers = {'User-Agent': \n",
    "           'Mozilla/5.0 (X11; Linux x86_64) AppleWebKit/537.36 (KHTML, like Gecko) Chrome/47.0.2526.106 Safari/537.36''}"
   ]
  },
  {
   "cell_type": "markdown",
   "metadata": {},
   "source": [
    "## Найдите список ссылок на команды и сохраните их"
   ]
  },
  {
   "cell_type": "code",
   "execution_count": 12,
   "metadata": {},
   "outputs": [],
   "source": [
    "#Таблица рейтингов\n",
    "page = 'https://www.transfermarkt.co.uk/premier-league/startseite/wettbewerb/GB1'\n",
    "tree = requests.get(page, headers = headers)\n",
    "soup = BeautifulSoup(tree.content, 'html.parser')\n",
    "\n",
    "#создаем пустой список\n",
    "teamLinks = []\n",
    "\n",
    "#Извлекаем все ссылки с помощью правильного селектора CSS\n",
    "links = soup.select(\"a.vereinprofil_tooltip\")\n",
    "\n",
    "#Нам нужно местоположение, на которое указывает ссылка, поэтому для каждой ссылки возьмите местоположение ссылки.\n",
    "for i in range(1,41,2):\n",
    "    teamLinks.append(links[i].get(\"href\"))\n",
    "    \n",
    "for i in range(len(teamLinks)):\n",
    "    teamLinks[i] = \"https://www.transfermarkt.co.uk\"+teamLinks[i]"
   ]
  },
  {
   "cell_type": "markdown",
   "metadata": {},
   "source": [
    "## Проходим через каждую команду и сохраняем ссылки"
   ]
  },
  {
   "cell_type": "code",
   "execution_count": 13,
   "metadata": {},
   "outputs": [
    {
     "data": {
      "text/plain": [
       "'https://www.transfermarkt.co.uk/aston-villa/startseite/verein/405/saison_id/2020'"
      ]
     },
     "execution_count": 13,
     "metadata": {},
     "output_type": "execute_result"
    }
   ],
   "source": [
    "teamLinks[14]"
   ]
  },
  {
   "cell_type": "code",
   "execution_count": 14,
   "metadata": {},
   "outputs": [],
   "source": [
    "#Создайте пустой список для ссылок на наших игроков\n",
    "playerLinks = []\n",
    "\n",
    "#Запускаем парсер по каждой из 20 наших командных ссылок\n",
    "for i in range(len(teamLinks)):\n",
    "\n",
    "    #Скачать и обработать страницу команды\n",
    "    page = teamLinks[i]\n",
    "    tree = requests.get(page, headers = headers)\n",
    "    soup = BeautifulSoup(tree.content, 'html.parser')\n",
    "\n",
    "    #Извлечь все ссылки\n",
    "    links = soup.select(\"a.spielprofil_tooltip\")\n",
    "    \n",
    "    #Для каждой ссылки извлеките место, на которое она указывает\n",
    "    for j in range(len(links)):\n",
    "        playerLinks.append(links[j].get(\"href\"))\n",
    "\n",
    "    #Добавляем местоположение в конец домена transfermarkt, чтобы он был готов к очистке\n",
    "    for j in range(len(playerLinks)):\n",
    "        playerLinks[j] = \"https://www.transfermarkt.co.uk\"+playerLinks[j]\n",
    "\n",
    "    #TНа странице перечислены игроки более одного раза - давайте воспользуемся list (set (XXX)) для удаления дубликатов\n",
    "    playerLinks = list(set(playerLinks))"
   ]
  },
  {
   "cell_type": "markdown",
   "metadata": {},
   "source": [
    "## Найдите и сохраните изображение каждого игрока"
   ]
  },
  {
   "cell_type": "code",
   "execution_count": 15,
   "metadata": {},
   "outputs": [
    {
     "data": {
      "text/plain": [
       "543"
      ]
     },
     "execution_count": 15,
     "metadata": {},
     "output_type": "execute_result"
    }
   ],
   "source": [
    "len(playerLinks)"
   ]
  },
  {
   "cell_type": "code",
   "execution_count": null,
   "metadata": {},
   "outputs": [],
   "source": [
    "for i in range(len(playerLinks)):\n",
    "\n",
    "    page = playerLinks[i]\n",
    "    tree = requests.get(page, headers=headers)\n",
    "    soup = BeautifulSoup(tree.content, 'html.parser')\n",
    "\n",
    "    name = soup.find_all(\"h1\")\n",
    "    \n",
    "    image = soup.find_all(\"img\",{\"title\":name[0].text})\n",
    "    \n",
    "    src = image[0].get('src').split(\"?lm\")[0]\n",
    "\n",
    "    with open(name[0].text+\".jpg\",\"wb\") as f:\n",
    "        f.write(requests.get(src).content)"
   ]
  }
 ],
 "metadata": {
  "kernelspec": {
   "display_name": "Python 3",
   "language": "python",
   "name": "python3"
  },
  "language_info": {
   "codemirror_mode": {
    "name": "ipython",
    "version": 3
   },
   "file_extension": ".py",
   "mimetype": "text/x-python",
   "name": "python",
   "nbconvert_exporter": "python",
   "pygments_lexer": "ipython3",
   "version": "3.7.6"
  }
 },
 "nbformat": 4,
 "nbformat_minor": 4
}
